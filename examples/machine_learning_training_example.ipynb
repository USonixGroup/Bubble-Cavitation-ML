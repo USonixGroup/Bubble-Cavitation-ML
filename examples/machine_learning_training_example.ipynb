{
 "cells": [
  {
   "cell_type": "markdown",
   "id": "6700c4caaa05b341",
   "metadata": {},
   "source": [
    "# Libraries "
   ]
  },
  {
   "cell_type": "code",
   "execution_count": 1,
   "id": "f48021647c5722ba",
   "metadata": {
    "ExecuteTime": {
     "end_time": "2024-08-23T01:23:45.221960Z",
     "start_time": "2024-08-23T01:23:41.052680Z"
    }
   },
   "outputs": [],
   "source": [
    "from util_machine_learning import ensemble_design_generalization, multi_objective_design_generalization, expansion_design_generalization, likelihood_design_generalization\n",
    "from util_machine_learning import ensemble_design_cross_validation, multi_objective_design_cross_validation, expansion_design_cross_validation, likelihood_design_cross_validation\n",
    "from util_metrics import calculate_overall_metrics, process_ensemble_multi_objective\n",
    "from util_metrics import table_metrics\n",
    "import pandas as pd\n",
    "import numpy as np"
   ]
  },
  {
   "cell_type": "markdown",
   "id": "747cfb476ca031be",
   "metadata": {},
   "source": [
    "# Dataset and configuration "
   ]
  },
  {
   "cell_type": "code",
   "execution_count": 2,
   "id": "4f5fcb6ad2d3a06b",
   "metadata": {
    "ExecuteTime": {
     "end_time": "2024-08-23T01:23:45.361852Z",
     "start_time": "2024-08-23T01:23:45.221960Z"
    }
   },
   "outputs": [],
   "source": [
    "data = pd.read_csv('../Data/dataset_odeint_3_inertial.csv')\n",
    "number_of_trees = 15 "
   ]
  },
  {
   "cell_type": "markdown",
   "id": "240c29e3dcc66d55",
   "metadata": {},
   "source": [
    "# Generalization \n",
    "##  Train and test designs"
   ]
  },
  {
   "cell_type": "code",
   "execution_count": 3,
   "id": "c9f1ac42672af670",
   "metadata": {
    "ExecuteTime": {
     "end_time": "2024-08-23T00:52:57.722765Z",
     "start_time": "2024-08-23T00:52:50.396744Z"
    }
   },
   "outputs": [],
   "source": [
    "result_ensemble = ensemble_design_generalization(data, number_of_trees)\n",
    "labels_train_mo, train_predictions_mo, labels_test_mo, test_predictions_mo, list_labels_mo = multi_objective_design_generalization(data, number_of_trees)\n",
    "results_mo = [labels_train_mo, train_predictions_mo, labels_test_mo, test_predictions_mo, list_labels_mo]\n",
    "result_expansion = expansion_design_generalization(data, number_of_trees)\n",
    "result_likelihood = likelihood_design_generalization(data, number_of_trees)"
   ]
  },
  {
   "cell_type": "markdown",
   "id": "edbe7cb11880f2e2",
   "metadata": {},
   "source": [
    "## Metrics "
   ]
  },
  {
   "cell_type": "code",
   "execution_count": 4,
   "id": "95482db09e0cc475",
   "metadata": {
    "ExecuteTime": {
     "end_time": "2024-08-23T00:52:57.925393Z",
     "start_time": "2024-08-23T00:52:57.723322Z"
    }
   },
   "outputs": [],
   "source": [
    "table_metrics(result_ensemble, result_expansion, result_likelihood, results_mo)"
   ]
  },
  {
   "cell_type": "markdown",
   "id": "d8b661357c481c67",
   "metadata": {},
   "source": [
    "# Cross validation \n",
    "## Train and test designs"
   ]
  },
  {
   "cell_type": "code",
   "execution_count": 3,
   "id": "66e411659ec0f816",
   "metadata": {
    "ExecuteTime": {
     "end_time": "2024-08-23T01:29:53.060550Z",
     "start_time": "2024-08-23T01:29:20.497512Z"
    }
   },
   "outputs": [],
   "source": [
    "result_ensemble = ensemble_design_cross_validation(data, number_of_trees)\n",
    "result_mo_dd, list_labels_mo = multi_objective_design_cross_validation(data, number_of_trees)\n",
    "result_mo = [result_mo_dd, list_labels_mo]\n",
    "result_expansion = expansion_design_cross_validation(data, number_of_trees)\n",
    "result_likelihood = likelihood_design_cross_validation(data, number_of_trees)"
   ]
  },
  {
   "cell_type": "markdown",
   "id": "5c36d892653f4dc0",
   "metadata": {},
   "source": [
    "## Metrics"
   ]
  },
  {
   "cell_type": "code",
   "execution_count": 4,
   "id": "1c806143",
   "metadata": {},
   "outputs": [],
   "source": [
    "def table_metrics_cross_validation(result_ensemble, result_mo, result_expansion, result_likelihood):\n",
    " \n",
    "    result_expansion_train = result_expansion[result_expansion['Set'] == 'Train']\n",
    "    result_expansion_test = result_expansion[result_expansion['Set'] == 'Test']\n",
    "    \n",
    "    result_likelihood_train = result_likelihood[result_likelihood['Set'] == 'Train']\n",
    "    result_likelihood_test = result_likelihood[result_likelihood['Set'] == 'Test']\n",
    "    \n",
    "    acc_expansion_train, mae_expansion_train, rmse_expansion_train = calculate_overall_metrics(result_expansion_train['Label'].tolist(),\n",
    "                                                                                               result_expansion_train['Predicted'].tolist())\n",
    "    acc_expansion_test, mae_expansion_test, rmse_expansion_test = calculate_overall_metrics(result_expansion_test['Label'].tolist(),\n",
    "                                                                                               result_expansion_test['Predicted'].tolist())\n",
    "    \n",
    "    acc_likelihood_train, mae_likelihood_train, rmse_likelihood_train = calculate_overall_metrics(result_likelihood_train['Label'].tolist(),\n",
    "                          result_likelihood_train['Predicted'].tolist(), binary_classification=False)\n",
    "    acc_likelihood_test, mae_likelihood_test, rmse_likelihood_test = calculate_overall_metrics(result_likelihood_test['Label'].tolist(),\n",
    "                          result_likelihood_test['Predicted'].tolist(), binary_classification=False)\n",
    "    \n",
    "    print(acc_expansion_train, mae_expansion_train, rmse_expansion_train)\n",
    "    print(acc_expansion_test, mae_expansion_test, rmse_expansion_test)\n",
    "    \n",
    "    print(acc_likelihood_train, mae_likelihood_train, rmse_likelihood_train)\n",
    "    print(acc_likelihood_test, mae_likelihood_test, rmse_likelihood_test)"
   ]
  },
  {
   "cell_type": "code",
   "execution_count": 5,
   "id": "139371e2",
   "metadata": {},
   "outputs": [
    {
     "name": "stdout",
     "output_type": "stream",
     "text": [
      "0.6985645833333333 0.3014354166666666 0.5490310530144773\n",
      "0.6115833333333334 0.38841666666666674 0.6232277230134029\n",
      "0.934175 0.018561527777777802 0.02730790746697297\n",
      "0.6251 0.049158333333333346 0.0688857581972901\n"
     ]
    }
   ],
   "source": [
    "table_metrics_cross_validation(result_ensemble, result_mo, result_expansion, result_likelihood)"
   ]
  },
  {
   "cell_type": "code",
   "execution_count": 4,
   "id": "c53e2d05",
   "metadata": {},
   "outputs": [
    {
     "ename": "ValueError",
     "evalue": "The truth value of an array with more than one element is ambiguous. Use a.any() or a.all()",
     "output_type": "error",
     "traceback": [
      "\u001b[1;31m---------------------------------------------------------------------------\u001b[0m",
      "\u001b[1;31mValueError\u001b[0m                                Traceback (most recent call last)",
      "Cell \u001b[1;32mIn[4], line 1\u001b[0m\n\u001b[1;32m----> 1\u001b[0m process_ensemble_multi_objective(result_mo_dd, \u001b[38;5;124m'\u001b[39m\u001b[38;5;124mMulti-objective\u001b[39m\u001b[38;5;124m'\u001b[39m)\n",
      "File \u001b[1;32m~\\Documents\\Bubble-Cavitation-ML\\util_metrics.py:139\u001b[0m, in \u001b[0;36mprocess_ensemble_multi_objective\u001b[1;34m(results, model_type)\u001b[0m\n\u001b[0;32m    136\u001b[0m     all_predictions_test\u001b[38;5;241m.\u001b[39mappend(predictions_test)\n\u001b[0;32m    138\u001b[0m \u001b[38;5;66;03m# Cálculo usando el método 'mean'\u001b[39;00m\n\u001b[1;32m--> 139\u001b[0m mean_prediction_train, mean_labels_train, voting_predictions_train, voting_labels_train \u001b[38;5;241m=\u001b[39m ensembling_models(\n\u001b[0;32m    140\u001b[0m     all_labels_train, all_predictions_train, model_type)\n\u001b[0;32m    141\u001b[0m mean_prediction_test, mean_labels_test, voting_predictions_test, voting_labels_test \u001b[38;5;241m=\u001b[39m ensembling_models(\n\u001b[0;32m    142\u001b[0m     all_labels_test, all_predictions_test, model_type)\n\u001b[0;32m    144\u001b[0m \u001b[38;5;66;03m# Calcular métricas para train\u001b[39;00m\n",
      "File \u001b[1;32m~\\Documents\\Bubble-Cavitation-ML\\util_metrics.py:182\u001b[0m, in \u001b[0;36mensembling_models\u001b[1;34m(labels, predictions, model)\u001b[0m\n\u001b[0;32m    179\u001b[0m \u001b[38;5;28;01melse\u001b[39;00m:\n\u001b[0;32m    180\u001b[0m     \u001b[38;5;28;01mraise\u001b[39;00m \u001b[38;5;167;01mValueError\u001b[39;00m(\u001b[38;5;124m'\u001b[39m\u001b[38;5;124mModel must be Ensemble or Multi-objective\u001b[39m\u001b[38;5;124m'\u001b[39m)\n\u001b[1;32m--> 182\u001b[0m voting_labels \u001b[38;5;241m=\u001b[39m [\u001b[38;5;241m1\u001b[39m \u001b[38;5;28;01mif\u001b[39;00m vote \u001b[38;5;241m>\u001b[39m\u001b[38;5;241m=\u001b[39m \u001b[38;5;241m6\u001b[39m \u001b[38;5;28;01melse\u001b[39;00m \u001b[38;5;241m0\u001b[39m \u001b[38;5;28;01mfor\u001b[39;00m vote \u001b[38;5;129;01min\u001b[39;00m voting_labels_raw]\n\u001b[0;32m    183\u001b[0m voting_predictions \u001b[38;5;241m=\u001b[39m [\u001b[38;5;241m1\u001b[39m \u001b[38;5;28;01mif\u001b[39;00m vote \u001b[38;5;241m>\u001b[39m\u001b[38;5;241m=\u001b[39m \u001b[38;5;241m6\u001b[39m \u001b[38;5;28;01melse\u001b[39;00m \u001b[38;5;241m0\u001b[39m \u001b[38;5;28;01mfor\u001b[39;00m vote \u001b[38;5;129;01min\u001b[39;00m voting_predictions_raw]\n\u001b[0;32m    185\u001b[0m \u001b[38;5;28;01mreturn\u001b[39;00m mean_prediction_raw, mean_labels_raw, voting_predictions, voting_labels\n",
      "File \u001b[1;32m~\\Documents\\Bubble-Cavitation-ML\\util_metrics.py:182\u001b[0m, in \u001b[0;36m<listcomp>\u001b[1;34m(.0)\u001b[0m\n\u001b[0;32m    179\u001b[0m \u001b[38;5;28;01melse\u001b[39;00m:\n\u001b[0;32m    180\u001b[0m     \u001b[38;5;28;01mraise\u001b[39;00m \u001b[38;5;167;01mValueError\u001b[39;00m(\u001b[38;5;124m'\u001b[39m\u001b[38;5;124mModel must be Ensemble or Multi-objective\u001b[39m\u001b[38;5;124m'\u001b[39m)\n\u001b[1;32m--> 182\u001b[0m voting_labels \u001b[38;5;241m=\u001b[39m [\u001b[38;5;241m1\u001b[39m \u001b[38;5;28;01mif\u001b[39;00m vote \u001b[38;5;241m>\u001b[39m\u001b[38;5;241m=\u001b[39m \u001b[38;5;241m6\u001b[39m \u001b[38;5;28;01melse\u001b[39;00m \u001b[38;5;241m0\u001b[39m \u001b[38;5;28;01mfor\u001b[39;00m vote \u001b[38;5;129;01min\u001b[39;00m voting_labels_raw]\n\u001b[0;32m    183\u001b[0m voting_predictions \u001b[38;5;241m=\u001b[39m [\u001b[38;5;241m1\u001b[39m \u001b[38;5;28;01mif\u001b[39;00m vote \u001b[38;5;241m>\u001b[39m\u001b[38;5;241m=\u001b[39m \u001b[38;5;241m6\u001b[39m \u001b[38;5;28;01melse\u001b[39;00m \u001b[38;5;241m0\u001b[39m \u001b[38;5;28;01mfor\u001b[39;00m vote \u001b[38;5;129;01min\u001b[39;00m voting_predictions_raw]\n\u001b[0;32m    185\u001b[0m \u001b[38;5;28;01mreturn\u001b[39;00m mean_prediction_raw, mean_labels_raw, voting_predictions, voting_labels\n",
      "\u001b[1;31mValueError\u001b[0m: The truth value of an array with more than one element is ambiguous. Use a.any() or a.all()"
     ]
    }
   ],
   "source": [
    "process_ensemble_multi_objective(result_mo_dd, 'Multi-objective')"
   ]
  },
  {
   "cell_type": "code",
   "execution_count": 9,
   "id": "e0f7af0d",
   "metadata": {},
   "outputs": [
    {
     "data": {
      "text/html": [
       "<div>\n",
       "<style scoped>\n",
       "    .dataframe tbody tr th:only-of-type {\n",
       "        vertical-align: middle;\n",
       "    }\n",
       "\n",
       "    .dataframe tbody tr th {\n",
       "        vertical-align: top;\n",
       "    }\n",
       "\n",
       "    .dataframe thead th {\n",
       "        text-align: right;\n",
       "    }\n",
       "</style>\n",
       "<table border=\"1\" class=\"dataframe\">\n",
       "  <thead>\n",
       "    <tr style=\"text-align: right;\">\n",
       "      <th></th>\n",
       "      <th>RP_dynamical_threshold</th>\n",
       "      <th>RP_mach_number</th>\n",
       "      <th>RP_acoustic_emissions</th>\n",
       "      <th>RP_expansion_radius</th>\n",
       "      <th>KM_dynamical_threshold</th>\n",
       "      <th>KM_mach_number</th>\n",
       "      <th>KM_acoustic_emissions</th>\n",
       "      <th>KM_expansion_radius</th>\n",
       "      <th>G_dynamical_threshold</th>\n",
       "      <th>G_acoustic_emissions</th>\n",
       "      <th>G_mach_number</th>\n",
       "      <th>G_expansion_radius</th>\n",
       "    </tr>\n",
       "  </thead>\n",
       "  <tbody>\n",
       "    <tr>\n",
       "      <th>1</th>\n",
       "      <td>1</td>\n",
       "      <td>0</td>\n",
       "      <td>1</td>\n",
       "      <td>1</td>\n",
       "      <td>0</td>\n",
       "      <td>1</td>\n",
       "      <td>0</td>\n",
       "      <td>0</td>\n",
       "      <td>0</td>\n",
       "      <td>0</td>\n",
       "      <td>1</td>\n",
       "      <td>0</td>\n",
       "    </tr>\n",
       "    <tr>\n",
       "      <th>2</th>\n",
       "      <td>0</td>\n",
       "      <td>1</td>\n",
       "      <td>0</td>\n",
       "      <td>0</td>\n",
       "      <td>0</td>\n",
       "      <td>1</td>\n",
       "      <td>0</td>\n",
       "      <td>0</td>\n",
       "      <td>1</td>\n",
       "      <td>0</td>\n",
       "      <td>1</td>\n",
       "      <td>0</td>\n",
       "    </tr>\n",
       "    <tr>\n",
       "      <th>4</th>\n",
       "      <td>0</td>\n",
       "      <td>1</td>\n",
       "      <td>0</td>\n",
       "      <td>0</td>\n",
       "      <td>0</td>\n",
       "      <td>1</td>\n",
       "      <td>0</td>\n",
       "      <td>0</td>\n",
       "      <td>1</td>\n",
       "      <td>0</td>\n",
       "      <td>1</td>\n",
       "      <td>0</td>\n",
       "    </tr>\n",
       "    <tr>\n",
       "      <th>5</th>\n",
       "      <td>0</td>\n",
       "      <td>1</td>\n",
       "      <td>0</td>\n",
       "      <td>0</td>\n",
       "      <td>0</td>\n",
       "      <td>1</td>\n",
       "      <td>0</td>\n",
       "      <td>0</td>\n",
       "      <td>0</td>\n",
       "      <td>0</td>\n",
       "      <td>1</td>\n",
       "      <td>0</td>\n",
       "    </tr>\n",
       "    <tr>\n",
       "      <th>6</th>\n",
       "      <td>0</td>\n",
       "      <td>1</td>\n",
       "      <td>0</td>\n",
       "      <td>0</td>\n",
       "      <td>0</td>\n",
       "      <td>1</td>\n",
       "      <td>0</td>\n",
       "      <td>0</td>\n",
       "      <td>0</td>\n",
       "      <td>0</td>\n",
       "      <td>1</td>\n",
       "      <td>0</td>\n",
       "    </tr>\n",
       "    <tr>\n",
       "      <th>...</th>\n",
       "      <td>...</td>\n",
       "      <td>...</td>\n",
       "      <td>...</td>\n",
       "      <td>...</td>\n",
       "      <td>...</td>\n",
       "      <td>...</td>\n",
       "      <td>...</td>\n",
       "      <td>...</td>\n",
       "      <td>...</td>\n",
       "      <td>...</td>\n",
       "      <td>...</td>\n",
       "      <td>...</td>\n",
       "    </tr>\n",
       "    <tr>\n",
       "      <th>9994</th>\n",
       "      <td>0</td>\n",
       "      <td>1</td>\n",
       "      <td>0</td>\n",
       "      <td>1</td>\n",
       "      <td>0</td>\n",
       "      <td>1</td>\n",
       "      <td>1</td>\n",
       "      <td>1</td>\n",
       "      <td>0</td>\n",
       "      <td>0</td>\n",
       "      <td>1</td>\n",
       "      <td>1</td>\n",
       "    </tr>\n",
       "    <tr>\n",
       "      <th>9995</th>\n",
       "      <td>0</td>\n",
       "      <td>1</td>\n",
       "      <td>0</td>\n",
       "      <td>1</td>\n",
       "      <td>0</td>\n",
       "      <td>1</td>\n",
       "      <td>1</td>\n",
       "      <td>1</td>\n",
       "      <td>0</td>\n",
       "      <td>1</td>\n",
       "      <td>1</td>\n",
       "      <td>1</td>\n",
       "    </tr>\n",
       "    <tr>\n",
       "      <th>9996</th>\n",
       "      <td>0</td>\n",
       "      <td>1</td>\n",
       "      <td>1</td>\n",
       "      <td>1</td>\n",
       "      <td>0</td>\n",
       "      <td>1</td>\n",
       "      <td>1</td>\n",
       "      <td>1</td>\n",
       "      <td>0</td>\n",
       "      <td>1</td>\n",
       "      <td>1</td>\n",
       "      <td>1</td>\n",
       "    </tr>\n",
       "    <tr>\n",
       "      <th>9997</th>\n",
       "      <td>0</td>\n",
       "      <td>1</td>\n",
       "      <td>1</td>\n",
       "      <td>1</td>\n",
       "      <td>0</td>\n",
       "      <td>1</td>\n",
       "      <td>1</td>\n",
       "      <td>1</td>\n",
       "      <td>0</td>\n",
       "      <td>1</td>\n",
       "      <td>1</td>\n",
       "      <td>1</td>\n",
       "    </tr>\n",
       "    <tr>\n",
       "      <th>9999</th>\n",
       "      <td>0</td>\n",
       "      <td>1</td>\n",
       "      <td>1</td>\n",
       "      <td>1</td>\n",
       "      <td>1</td>\n",
       "      <td>1</td>\n",
       "      <td>1</td>\n",
       "      <td>1</td>\n",
       "      <td>0</td>\n",
       "      <td>1</td>\n",
       "      <td>1</td>\n",
       "      <td>1</td>\n",
       "    </tr>\n",
       "  </tbody>\n",
       "</table>\n",
       "<p>8000 rows × 12 columns</p>\n",
       "</div>"
      ],
      "text/plain": [
       "      RP_dynamical_threshold  RP_mach_number  RP_acoustic_emissions  \\\n",
       "1                          1               0                      1   \n",
       "2                          0               1                      0   \n",
       "4                          0               1                      0   \n",
       "5                          0               1                      0   \n",
       "6                          0               1                      0   \n",
       "...                      ...             ...                    ...   \n",
       "9994                       0               1                      0   \n",
       "9995                       0               1                      0   \n",
       "9996                       0               1                      1   \n",
       "9997                       0               1                      1   \n",
       "9999                       0               1                      1   \n",
       "\n",
       "      RP_expansion_radius  KM_dynamical_threshold  KM_mach_number  \\\n",
       "1                       1                       0               1   \n",
       "2                       0                       0               1   \n",
       "4                       0                       0               1   \n",
       "5                       0                       0               1   \n",
       "6                       0                       0               1   \n",
       "...                   ...                     ...             ...   \n",
       "9994                    1                       0               1   \n",
       "9995                    1                       0               1   \n",
       "9996                    1                       0               1   \n",
       "9997                    1                       0               1   \n",
       "9999                    1                       1               1   \n",
       "\n",
       "      KM_acoustic_emissions  KM_expansion_radius  G_dynamical_threshold  \\\n",
       "1                         0                    0                      0   \n",
       "2                         0                    0                      1   \n",
       "4                         0                    0                      1   \n",
       "5                         0                    0                      0   \n",
       "6                         0                    0                      0   \n",
       "...                     ...                  ...                    ...   \n",
       "9994                      1                    1                      0   \n",
       "9995                      1                    1                      0   \n",
       "9996                      1                    1                      0   \n",
       "9997                      1                    1                      0   \n",
       "9999                      1                    1                      0   \n",
       "\n",
       "      G_acoustic_emissions  G_mach_number  G_expansion_radius  \n",
       "1                        0              1                   0  \n",
       "2                        0              1                   0  \n",
       "4                        0              1                   0  \n",
       "5                        0              1                   0  \n",
       "6                        0              1                   0  \n",
       "...                    ...            ...                 ...  \n",
       "9994                     0              1                   1  \n",
       "9995                     1              1                   1  \n",
       "9996                     1              1                   1  \n",
       "9997                     1              1                   1  \n",
       "9999                     1              1                   1  \n",
       "\n",
       "[8000 rows x 12 columns]"
      ]
     },
     "execution_count": 9,
     "metadata": {},
     "output_type": "execute_result"
    }
   ],
   "source": [
    "result_mo_dd[0]['Labels_train']"
   ]
  },
  {
   "cell_type": "code",
   "execution_count": 6,
   "id": "7ab1766f13d01322",
   "metadata": {
    "ExecuteTime": {
     "end_time": "2024-08-23T01:30:22.325012Z",
     "start_time": "2024-08-23T01:30:20.817109Z"
    }
   },
   "outputs": [
    {
     "name": "stdout",
     "output_type": "stream",
     "text": [
      "------------------OVERALL METRICS - ENSEMBLE----------------------------------\n"
     ]
    },
    {
     "ename": "KeyError",
     "evalue": "'Labels_train'",
     "output_type": "error",
     "traceback": [
      "\u001b[1;31m---------------------------------------------------------------------------\u001b[0m",
      "\u001b[1;31mKeyError\u001b[0m                                  Traceback (most recent call last)",
      "File \u001b[1;32m~\\anaconda3\\Lib\\site-packages\\pandas\\core\\indexes\\base.py:3802\u001b[0m, in \u001b[0;36mIndex.get_loc\u001b[1;34m(self, key, method, tolerance)\u001b[0m\n\u001b[0;32m   3801\u001b[0m \u001b[38;5;28;01mtry\u001b[39;00m:\n\u001b[1;32m-> 3802\u001b[0m     \u001b[38;5;28;01mreturn\u001b[39;00m \u001b[38;5;28mself\u001b[39m\u001b[38;5;241m.\u001b[39m_engine\u001b[38;5;241m.\u001b[39mget_loc(casted_key)\n\u001b[0;32m   3803\u001b[0m \u001b[38;5;28;01mexcept\u001b[39;00m \u001b[38;5;167;01mKeyError\u001b[39;00m \u001b[38;5;28;01mas\u001b[39;00m err:\n",
      "File \u001b[1;32m~\\anaconda3\\Lib\\site-packages\\pandas\\_libs\\index.pyx:138\u001b[0m, in \u001b[0;36mpandas._libs.index.IndexEngine.get_loc\u001b[1;34m()\u001b[0m\n",
      "File \u001b[1;32m~\\anaconda3\\Lib\\site-packages\\pandas\\_libs\\index.pyx:165\u001b[0m, in \u001b[0;36mpandas._libs.index.IndexEngine.get_loc\u001b[1;34m()\u001b[0m\n",
      "File \u001b[1;32mpandas\\_libs\\hashtable_class_helper.pxi:5745\u001b[0m, in \u001b[0;36mpandas._libs.hashtable.PyObjectHashTable.get_item\u001b[1;34m()\u001b[0m\n",
      "File \u001b[1;32mpandas\\_libs\\hashtable_class_helper.pxi:5753\u001b[0m, in \u001b[0;36mpandas._libs.hashtable.PyObjectHashTable.get_item\u001b[1;34m()\u001b[0m\n",
      "\u001b[1;31mKeyError\u001b[0m: 'Labels_train'",
      "\nThe above exception was the direct cause of the following exception:\n",
      "\u001b[1;31mKeyError\u001b[0m                                  Traceback (most recent call last)",
      "Cell \u001b[1;32mIn[6], line 3\u001b[0m\n\u001b[0;32m      1\u001b[0m \u001b[38;5;66;03m# Calcular las métricas para los conjuntos de prueba y entrenamiento por diseño\u001b[39;00m\n\u001b[0;32m      2\u001b[0m \u001b[38;5;28mprint\u001b[39m(\u001b[38;5;124m'\u001b[39m\u001b[38;5;124m------------------OVERALL METRICS - ENSEMBLE----------------------------------\u001b[39m\u001b[38;5;124m'\u001b[39m)\n\u001b[1;32m----> 3\u001b[0m process_ensemble_multi_objective([result_ensemble], \u001b[38;5;124m'\u001b[39m\u001b[38;5;124mEnsemble\u001b[39m\u001b[38;5;124m'\u001b[39m)\n\u001b[0;32m      5\u001b[0m \u001b[38;5;28mprint\u001b[39m(\u001b[38;5;124m'\u001b[39m\u001b[38;5;124m------------------OVERALL METRICS - MULTI-OBJECTIVE----------------------------------\u001b[39m\u001b[38;5;124m'\u001b[39m)\n\u001b[0;32m      6\u001b[0m process_ensemble_multi_objective(result_mo, \u001b[38;5;124m'\u001b[39m\u001b[38;5;124mMulti-objective\u001b[39m\u001b[38;5;124m'\u001b[39m, binary_classification\u001b[38;5;241m=\u001b[39m\u001b[38;5;28;01mFalse\u001b[39;00m)\n",
      "File \u001b[1;32m~\\Documents\\Bubble-Cavitation-ML\\util_metrics.py:126\u001b[0m, in \u001b[0;36mprocess_ensemble_multi_objective\u001b[1;34m(results, model_type, binary_classification)\u001b[0m\n\u001b[0;32m    123\u001b[0m all_predictions_test \u001b[38;5;241m=\u001b[39m []\n\u001b[0;32m    125\u001b[0m \u001b[38;5;28;01mfor\u001b[39;00m result \u001b[38;5;129;01min\u001b[39;00m results:\n\u001b[1;32m--> 126\u001b[0m     labels_train \u001b[38;5;241m=\u001b[39m result[\u001b[38;5;124m'\u001b[39m\u001b[38;5;124mLabels_train\u001b[39m\u001b[38;5;124m'\u001b[39m]\u001b[38;5;241m.\u001b[39mvalues\n\u001b[0;32m    127\u001b[0m     predictions_train \u001b[38;5;241m=\u001b[39m result[\u001b[38;5;124m'\u001b[39m\u001b[38;5;124mTrain_predictions\u001b[39m\u001b[38;5;124m'\u001b[39m]\n\u001b[0;32m    129\u001b[0m     labels_test \u001b[38;5;241m=\u001b[39m result[\u001b[38;5;124m'\u001b[39m\u001b[38;5;124mLabels_test\u001b[39m\u001b[38;5;124m'\u001b[39m]\u001b[38;5;241m.\u001b[39mvalues\n",
      "File \u001b[1;32m~\\anaconda3\\Lib\\site-packages\\pandas\\core\\frame.py:3807\u001b[0m, in \u001b[0;36mDataFrame.__getitem__\u001b[1;34m(self, key)\u001b[0m\n\u001b[0;32m   3805\u001b[0m \u001b[38;5;28;01mif\u001b[39;00m \u001b[38;5;28mself\u001b[39m\u001b[38;5;241m.\u001b[39mcolumns\u001b[38;5;241m.\u001b[39mnlevels \u001b[38;5;241m>\u001b[39m \u001b[38;5;241m1\u001b[39m:\n\u001b[0;32m   3806\u001b[0m     \u001b[38;5;28;01mreturn\u001b[39;00m \u001b[38;5;28mself\u001b[39m\u001b[38;5;241m.\u001b[39m_getitem_multilevel(key)\n\u001b[1;32m-> 3807\u001b[0m indexer \u001b[38;5;241m=\u001b[39m \u001b[38;5;28mself\u001b[39m\u001b[38;5;241m.\u001b[39mcolumns\u001b[38;5;241m.\u001b[39mget_loc(key)\n\u001b[0;32m   3808\u001b[0m \u001b[38;5;28;01mif\u001b[39;00m is_integer(indexer):\n\u001b[0;32m   3809\u001b[0m     indexer \u001b[38;5;241m=\u001b[39m [indexer]\n",
      "File \u001b[1;32m~\\anaconda3\\Lib\\site-packages\\pandas\\core\\indexes\\base.py:3804\u001b[0m, in \u001b[0;36mIndex.get_loc\u001b[1;34m(self, key, method, tolerance)\u001b[0m\n\u001b[0;32m   3802\u001b[0m     \u001b[38;5;28;01mreturn\u001b[39;00m \u001b[38;5;28mself\u001b[39m\u001b[38;5;241m.\u001b[39m_engine\u001b[38;5;241m.\u001b[39mget_loc(casted_key)\n\u001b[0;32m   3803\u001b[0m \u001b[38;5;28;01mexcept\u001b[39;00m \u001b[38;5;167;01mKeyError\u001b[39;00m \u001b[38;5;28;01mas\u001b[39;00m err:\n\u001b[1;32m-> 3804\u001b[0m     \u001b[38;5;28;01mraise\u001b[39;00m \u001b[38;5;167;01mKeyError\u001b[39;00m(key) \u001b[38;5;28;01mfrom\u001b[39;00m \u001b[38;5;21;01merr\u001b[39;00m\n\u001b[0;32m   3805\u001b[0m \u001b[38;5;28;01mexcept\u001b[39;00m \u001b[38;5;167;01mTypeError\u001b[39;00m:\n\u001b[0;32m   3806\u001b[0m     \u001b[38;5;66;03m# If we have a listlike key, _check_indexing_error will raise\u001b[39;00m\n\u001b[0;32m   3807\u001b[0m     \u001b[38;5;66;03m#  InvalidIndexError. Otherwise we fall through and re-raise\u001b[39;00m\n\u001b[0;32m   3808\u001b[0m     \u001b[38;5;66;03m#  the TypeError.\u001b[39;00m\n\u001b[0;32m   3809\u001b[0m     \u001b[38;5;28mself\u001b[39m\u001b[38;5;241m.\u001b[39m_check_indexing_error(key)\n",
      "\u001b[1;31mKeyError\u001b[0m: 'Labels_train'"
     ]
    }
   ],
   "source": [
    "\n",
    "\n",
    "# Calcular las métricas para los conjuntos de prueba y entrenamiento por diseño\n",
    "print('------------------OVERALL METRICS - ENSEMBLE----------------------------------')\n",
    "process_ensemble_multi_objective([result_ensemble], 'Ensemble')\n",
    "\n",
    "print('------------------OVERALL METRICS - MULTI-OBJECTIVE----------------------------------')\n",
    "process_ensemble_multi_objective(result_mo, 'Multi-objective', binary_classification=False)\n"
   ]
  },
  {
   "cell_type": "code",
   "execution_count": 8,
   "id": "3451218dc2615b0e",
   "metadata": {
    "ExecuteTime": {
     "end_time": "2024-08-23T01:18:52.626685Z",
     "start_time": "2024-08-23T01:18:52.545233Z"
    }
   },
   "outputs": [],
   "source": []
  }
 ],
 "metadata": {
  "kernelspec": {
   "display_name": "Python 3 (ipykernel)",
   "language": "python",
   "name": "python3"
  },
  "language_info": {
   "codemirror_mode": {
    "name": "ipython",
    "version": 3
   },
   "file_extension": ".py",
   "mimetype": "text/x-python",
   "name": "python",
   "nbconvert_exporter": "python",
   "pygments_lexer": "ipython3",
   "version": "3.11.3"
  }
 },
 "nbformat": 4,
 "nbformat_minor": 5
}
