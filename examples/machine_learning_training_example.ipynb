{
 "cells": [
  {
   "cell_type": "markdown",
   "id": "6700c4caaa05b341",
   "metadata": {},
   "source": [
    "# Libraries "
   ]
  },
  {
   "cell_type": "code",
   "execution_count": 1,
   "id": "f48021647c5722ba",
   "metadata": {
    "ExecuteTime": {
     "end_time": "2024-08-27T00:13:58.250207Z",
     "start_time": "2024-08-27T00:13:53.962662Z"
    }
   },
   "outputs": [],
   "source": [
    "from util_machine_learning import ensemble_design_generalization, multi_objective_design_generalization, expansion_design_generalization, likelihood_design_generalization\n",
    "from util_machine_learning import ensemble_design_cross_validation, multi_objective_design_cross_validation, expansion_design_cross_validation, likelihood_design_cross_validation\n",
    "from util_metrics import calculate_overall_metrics, table_metrics, table_metrics_cross_validation\n",
    "import pandas as pd\n",
    "import numpy as np"
   ]
  },
  {
   "cell_type": "markdown",
   "id": "747cfb476ca031be",
   "metadata": {},
   "source": [
    "# Dataset and configuration "
   ]
  },
  {
   "cell_type": "code",
   "execution_count": 2,
   "id": "4f5fcb6ad2d3a06b",
   "metadata": {
    "ExecuteTime": {
     "end_time": "2024-08-27T00:13:58.386239Z",
     "start_time": "2024-08-27T00:13:58.250207Z"
    }
   },
   "outputs": [],
   "source": [
    "data = pd.read_csv('../Data/dataset_odeint_3_inertial.csv')\n",
    "number_of_trees = 15 "
   ]
  },
  {
   "cell_type": "markdown",
   "id": "240c29e3dcc66d55",
   "metadata": {},
   "source": [
    "# Generalization \n",
    "##  Train and test designs"
   ]
  },
  {
   "cell_type": "code",
   "execution_count": 3,
   "id": "c9f1ac42672af670",
   "metadata": {
    "ExecuteTime": {
     "end_time": "2024-08-27T00:14:05.629006Z",
     "start_time": "2024-08-27T00:13:58.386239Z"
    }
   },
   "outputs": [],
   "source": [
    "result_ensemble = ensemble_design_generalization(data, number_of_trees)\n",
    "labels_train_mo, train_predictions_mo, labels_test_mo, test_predictions_mo, list_labels_mo = multi_objective_design_generalization(data, number_of_trees)\n",
    "results_mo = [labels_train_mo, train_predictions_mo, labels_test_mo, test_predictions_mo, list_labels_mo]\n",
    "result_expansion = expansion_design_generalization(data, number_of_trees)\n",
    "result_likelihood = likelihood_design_generalization(data, number_of_trees)"
   ]
  },
  {
   "cell_type": "markdown",
   "id": "edbe7cb11880f2e2",
   "metadata": {},
   "source": [
    "## Metrics "
   ]
  },
  {
   "cell_type": "code",
   "execution_count": 4,
   "id": "95482db09e0cc475",
   "metadata": {
    "ExecuteTime": {
     "end_time": "2024-08-27T00:14:05.796023Z",
     "start_time": "2024-08-27T00:14:05.629006Z"
    }
   },
   "outputs": [
    {
     "name": "stdout",
     "output_type": "stream",
     "text": [
      "Test Set Metrics:\n",
      "+------------------------+--------------------+---------------------+---------------------+\n",
      "|         Model          |      Accuracy      |         MAE         |        RMSE         |\n",
      "+------------------------+--------------------+---------------------+---------------------+\n",
      "|     Ensemble Mean      |       0.8295       |       0.06825       | 0.10072652745594544 |\n",
      "|    Ensemble Voting     |       0.8295       |       0.1705        | 0.4129164564412516  |\n",
      "|  Multi-objective Mean  |       0.8325       | 0.06833333333333332 | 0.10065756029451758 |\n",
      "| Multi-objective Voting |       0.8325       |       0.1675        | 0.40926763859362253 |\n",
      "|       Expansion        | 0.7035833333333333 | 0.29641666666666666 | 0.5444416099699458  |\n",
      "|       Likelihood       |       0.4585       | 0.06590555555555555 | 0.09408674090866795 |\n",
      "+------------------------+--------------------+---------------------+---------------------+\n",
      "Train Set Metrics:\n",
      "+------------------------+--------------------+-----------------------+----------------------+\n",
      "|         Model          |      Accuracy      |          MAE          |         RMSE         |\n",
      "+------------------------+--------------------+-----------------------+----------------------+\n",
      "|     Ensemble Mean      |      0.98825       | 0.0033437499999999995 | 0.018185960702329328 |\n",
      "|    Ensemble Voting     |      0.98825       |        0.01175        |  0.108397416943394   |\n",
      "|  Multi-objective Mean  |      0.989625      | 0.0027708333333333335 | 0.016770509831248424 |\n",
      "| Multi-objective Voting |      0.989625      |       0.010375        | 0.10185774393731682  |\n",
      "|       Expansion        | 0.6800104166666666 |  0.3199895833333333   |  0.5656762177547624  |\n",
      "|       Likelihood       |      0.927125      |  0.01978472222222224  | 0.02868894483168657  |\n",
      "+------------------------+--------------------+-----------------------+----------------------+\n"
     ]
    }
   ],
   "source": [
    "table_metrics(result_ensemble, result_expansion, result_likelihood, results_mo)"
   ]
  },
  {
   "cell_type": "markdown",
   "id": "d8b661357c481c67",
   "metadata": {},
   "source": [
    "# Cross validation \n",
    "## Train and test designs"
   ]
  },
  {
   "cell_type": "code",
   "execution_count": 5,
   "id": "66e411659ec0f816",
   "metadata": {
    "ExecuteTime": {
     "end_time": "2024-08-23T01:29:53.060550Z",
     "start_time": "2024-08-23T01:29:20.497512Z"
    }
   },
   "outputs": [],
   "source": [
    "result_ensemble = ensemble_design_cross_validation(data, number_of_trees)\n",
    "result_mo_dd, list_labels_mo = multi_objective_design_cross_validation(data, number_of_trees)\n",
    "result_mo = [result_mo_dd, list_labels_mo]\n",
    "result_expansion = expansion_design_cross_validation(data, number_of_trees)\n",
    "result_likelihood = likelihood_design_cross_validation(data, number_of_trees)"
   ]
  },
  {
   "cell_type": "markdown",
   "id": "5c36d892653f4dc0",
   "metadata": {},
   "source": [
    "## Metrics"
   ]
  },
  {
   "cell_type": "code",
   "execution_count": 6,
   "id": "139371e2",
   "metadata": {},
   "outputs": [
    {
     "name": "stdout",
     "output_type": "stream",
     "text": [
      "Test Set Metrics:\n",
      "+------------------------+--------------------+----------------------+---------------------+\n",
      "|         Model          |      Accuracy      |         MAE          |        RMSE         |\n",
      "+------------------------+--------------------+----------------------+---------------------+\n",
      "|     Ensemble Mean      | 0.8230000000000001 | 0.06025833333333334  | 0.08940536588989575 |\n",
      "|    Ensemble Voting     | 0.8230000000000001 |        0.177         | 0.4206160774594679  |\n",
      "|  Multi-objective Mean  | 0.8192999999999999 | 0.061024999999999996 | 0.09139946376527337 |\n",
      "| Multi-objective Voting | 0.8192999999999999 |        0.1807        | 0.4250147078786567  |\n",
      "|       Expansion        | 0.6115833333333334 | 0.38841666666666674  | 0.6232277230134029  |\n",
      "|       Likelihood       |       0.6251       | 0.049158333333333346 | 0.0688857581972901  |\n",
      "+------------------------+--------------------+----------------------+---------------------+\n",
      "Train Set Metrics:\n",
      "+------------------------+--------------------+-----------------------+----------------------+\n",
      "|         Model          |      Accuracy      |          MAE          |         RMSE         |\n",
      "+------------------------+--------------------+-----------------------+----------------------+\n",
      "|     Ensemble Mean      | 0.9895249999999999 | 0.003116666666666667  | 0.01806379800212433  |\n",
      "|    Ensemble Voting     | 0.9895249999999999 | 0.010474999999999998  | 0.10228938338428446  |\n",
      "|  Multi-objective Mean  |       0.9906       | 0.0027166666666666667 | 0.016885289346089218 |\n",
      "| Multi-objective Voting |       0.9906       | 0.009400000000000002  | 0.09665345618124176  |\n",
      "|       Expansion        | 0.6985645833333333 |  0.3014354166666666   |  0.5490310530144773  |\n",
      "|       Likelihood       |      0.934175      | 0.018561527777777802  | 0.02730790746697297  |\n",
      "+------------------------+--------------------+-----------------------+----------------------+\n"
     ]
    }
   ],
   "source": [
    "table_metrics_cross_validation(result_ensemble, result_mo, result_expansion, result_likelihood)"
   ]
  }
 ],
 "metadata": {
  "kernelspec": {
   "display_name": "Python 3 (ipykernel)",
   "language": "python",
   "name": "python3"
  },
  "language_info": {
   "codemirror_mode": {
    "name": "ipython",
    "version": 3
   },
   "file_extension": ".py",
   "mimetype": "text/x-python",
   "name": "python",
   "nbconvert_exporter": "python",
   "pygments_lexer": "ipython3",
   "version": "3.11.3"
  }
 },
 "nbformat": 4,
 "nbformat_minor": 5
}
