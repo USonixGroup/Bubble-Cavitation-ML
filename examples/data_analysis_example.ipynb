{
 "cells": [
  {
   "metadata": {},
   "cell_type": "markdown",
   "source": "# Libraries",
   "id": "5e90ec2796bf426c"
  },
  {
   "metadata": {
    "ExecuteTime": {
     "end_time": "2024-08-22T12:29:06.581800Z",
     "start_time": "2024-08-22T12:29:02.315719Z"
    }
   },
   "cell_type": "code",
   "source": [
    "from multi_fidelity_machine_learning.postprocessing import *\n",
    "import pandas as pd"
   ],
   "id": "47672716ffa61205",
   "execution_count": 1,
   "outputs": []
  },
  {
   "metadata": {},
   "cell_type": "markdown",
   "source": "# Create classifiers",
   "id": "652edc1f5f6d4f67"
  },
  {
   "metadata": {
    "ExecuteTime": {
     "end_time": "2024-08-22T12:29:09.939474Z",
     "start_time": "2024-08-22T12:29:06.583924Z"
    }
   },
   "cell_type": "code",
   "source": [
    "dataset = define_threshold(kurtosis_threshold=13, crest_factor_threshold=7, type_of_data=2)\n",
    "dataset.to_csv(f'Data/dataset.csv')"
   ],
   "id": "82dd223d3f797dec",
   "execution_count": 2,
   "outputs": []
  },
  {
   "metadata": {},
   "cell_type": "markdown",
   "source": "# Function",
   "id": "5d6208c1bcd7f931"
  },
  {
   "cell_type": "code",
   "id": "initial_id",
   "metadata": {
    "collapsed": true,
    "ExecuteTime": {
     "end_time": "2024-08-22T12:29:09.951682Z",
     "start_time": "2024-08-22T12:29:09.941466Z"
    }
   },
   "source": [
    "def statictic_plots(data):\n",
    "    expanded_dataset = pd.read_csv(f\"Data/expanded_data.csv\")\n",
    "\n",
    "    data_expansion = expanded_dataset[expanded_dataset['threshold'] == 'radius']\n",
    "    data_kurtosis = expanded_dataset[expanded_dataset['threshold'] == 'kurtosis']\n",
    "    data_crest_factor = expanded_dataset[expanded_dataset['threshold'] == 'crest']\n",
    "    data_critical_radius = expanded_dataset[expanded_dataset['threshold'] == 'critical']\n",
    "    data_transition_radius = expanded_dataset[expanded_dataset['threshold'] == 'transition']\n",
    "    data_max_velocity = expanded_dataset[expanded_dataset['threshold'] == 'velocity']\n",
    "\n",
    "    histogram_parameter(data_expansion, 'expansion_radius')\n",
    "    histogram_parameter(data_kurtosis, 'kurtosis', 13)\n",
    "    histogram_parameter(data_crest_factor, 'crest_factor', 7)\n",
    "    histogram_parameter(data_critical_radius, 'critical_radius')\n",
    "    histogram_parameter(data_transition_radius, 'transition_radius')\n",
    "    histogram_parameter(data_max_velocity, 'max_velocity', 0)\n",
    "    histogram_parameter(data, 'count')\n",
    "\n",
    "    distribution_data(data)\n",
    "    pair_plot(data)\n",
    "\n",
    "    violin_data = pd.read_csv(f\"csv/dataset.csv\")\n",
    "\n",
    "    general_violin_plot(violin_data)\n",
    "\n",
    "    violin_plot(violin_data, 'dynamical_threshold')\n",
    "    violin_plot(violin_data, 'mach_number')\n",
    "    violin_plot(violin_data, 'expansion_radius')\n",
    "    violin_plot(violin_data, 'acoustic_emissions')"
   ],
   "execution_count": 3,
   "outputs": []
  },
  {
   "metadata": {
    "ExecuteTime": {
     "end_time": "2024-08-22T12:29:18.782015Z",
     "start_time": "2024-08-22T12:29:09.952613Z"
    }
   },
   "cell_type": "code",
   "source": [
    "dataset_raw_paper = pd.read_csv(f\"Data/cavitation_type_dataset.csv\")\n",
    "dataset_threshold_paper = separate_dataset(dataset_raw_paper, type=3)\n",
    "dataset_threshold_paper.to_csv(f\"Data/expanded_data.csv\")\n",
    "\n",
    "dataset = pd.read_csv(f'Data/dataset.csv')\n",
    "statictic_plots(dataset)"
   ],
   "id": "432f810f96b3f621",
   "execution_count": 4,
   "outputs": []
  },
  {
   "metadata": {},
   "cell_type": "code",
   "execution_count": null,
   "source": "",
   "id": "f7643c0cc4535636",
   "outputs": []
  }
 ],
 "metadata": {
  "kernelspec": {
   "display_name": "Python 3",
   "language": "python",
   "name": "python3"
  },
  "language_info": {
   "codemirror_mode": {
    "name": "ipython",
    "version": 2
   },
   "file_extension": ".py",
   "mimetype": "text/x-python",
   "name": "python",
   "nbconvert_exporter": "python",
   "pygments_lexer": "ipython2",
   "version": "2.7.6"
  }
 },
 "nbformat": 4,
 "nbformat_minor": 5
}
