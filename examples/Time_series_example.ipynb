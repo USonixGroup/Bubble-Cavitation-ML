{
 "cells": [
  {
   "metadata": {},
   "cell_type": "markdown",
   "source": "# Libraries",
   "id": "a598414ba70ac7f0"
  },
  {
   "cell_type": "code",
   "id": "initial_id",
   "metadata": {
    "collapsed": true,
    "ExecuteTime": {
     "end_time": "2024-08-15T21:46:06.701105Z",
     "start_time": "2024-08-15T21:46:03.886089Z"
    }
   },
   "source": [
    "from scipy.integrate import odeint\n",
    "import numpy as np\n",
    "\n",
    "from main import Model\n",
    "from util_figures import time_series_figure"
   ],
   "execution_count": 1,
   "outputs": []
  },
  {
   "metadata": {},
   "cell_type": "markdown",
   "source": "# Global variables",
   "id": "d82e38e9ded78973"
  },
  {
   "metadata": {
    "ExecuteTime": {
     "end_time": "2024-08-15T21:46:06.710588Z",
     "start_time": "2024-08-15T21:46:06.703125Z"
    }
   },
   "cell_type": "code",
   "source": [
    "# Initialization parameters\n",
    "initial_velocity = 0\n",
    "atmospheric_pressure = 1e5\n",
    "\n",
    "adiabatic_index = 1.33\n",
    "vapor_pressure = 3.2718e3\n",
    "\n",
    "temperature = 20"
   ],
   "id": "fd3116099fa01d62",
   "execution_count": 2,
   "outputs": []
  },
  {
   "metadata": {},
   "cell_type": "markdown",
   "source": "# Generation of temperature dependent parameters ",
   "id": "2461a35e49a41eb8"
  },
  {
   "metadata": {
    "ExecuteTime": {
     "end_time": "2024-08-15T21:46:06.721665Z",
     "start_time": "2024-08-15T21:46:06.713251Z"
    }
   },
   "cell_type": "code",
   "source": [
    "sound_velocity = Model.sound_velocity_generator_temperature(temperature)\n",
    "surface_tension = Model.surface_tension_generator_temperature(temperature)\n",
    "density = Model.density_generator_temperature(temperature)\n",
    "viscosity = Model.viscosity_generator_temperature(temperature)"
   ],
   "id": "f7341547c409b0d7",
   "execution_count": 3,
   "outputs": []
  },
  {
   "metadata": {},
   "cell_type": "markdown",
   "source": "# Stable cavitation ",
   "id": "47e2574364dc12dd"
  },
  {
   "metadata": {
    "ExecuteTime": {
     "end_time": "2024-08-15T21:46:07.420623Z",
     "start_time": "2024-08-15T21:46:06.723693Z"
    }
   },
   "cell_type": "code",
   "source": [
    "acoustic_pressure = 0.3e6\n",
    "frequency = 1.2e6\n",
    "initial_radius = 10e-6\n",
    "\n",
    "periods = 25\n",
    "times = np.arange(0, periods / frequency, 0.00001 / frequency)\n",
    "\n",
    "general_model = Model(acoustic_pressure, frequency, initial_radius, initial_velocity, atmospheric_pressure,\n",
    "                      surface_tension, density, viscosity, sound_velocity, vapor_pressure, adiabatic_index)\n",
    "\n",
    "result_rayleigh_plesset = odeint(general_model.rayleigh_plesset_equation, [1, 0], times * frequency, tfirst=True)\n",
    "result_keller_miksis = odeint(general_model.keller_miksis_equation, [1, 0], times * frequency, tfirst=True)\n",
    "result_gilmore = odeint(general_model.gilmore_equation, [1, 0], times * 2 * np.pi * frequency, tfirst=True)"
   ],
   "id": "5fed3d68999eeb41",
   "execution_count": 4,
   "outputs": []
  },
  {
   "metadata": {
    "ExecuteTime": {
     "end_time": "2024-08-15T21:46:07.458834Z",
     "start_time": "2024-08-15T21:46:07.422622Z"
    }
   },
   "cell_type": "code",
   "source": [
    "data = dict()\n",
    "data['x_axis_data'] = [times * frequency, times * frequency, times * frequency]\n",
    "data['y_axis_data'] = [result_rayleigh_plesset[:, 0], result_keller_miksis[:, 0], result_gilmore[:, 0]]\n",
    "data['labels'] = ['Rayleigh-Plesset', 'Keller-Miksis', 'Gilmore']\n",
    "data['x_lim'] = [0, 10]\n",
    "data['y_lim'] = [0, 1.5]\n",
    "data['savefig'] = True\n",
    "data['name_fig'] = 'stable_cavitation.pdf'\n",
    "data['legend_title'] = 'Differential equation'\n",
    "data['x_label'] = \"Time (periods)\"\n",
    "data['y_label'] = \"Radius (non dimensional)\""
   ],
   "id": "cebcc4fb7e8cfb96",
   "execution_count": 5,
   "outputs": []
  },
  {
   "metadata": {
    "ExecuteTime": {
     "end_time": "2024-08-15T21:46:09.973238Z",
     "start_time": "2024-08-15T21:46:07.460947Z"
    }
   },
   "cell_type": "code",
   "source": "time_series_figure(data=data)",
   "id": "b93f942fe7b3b9b1",
   "execution_count": 6,
   "outputs": []
  },
  {
   "metadata": {},
   "cell_type": "markdown",
   "source": "# Transient cavitation ",
   "id": "1415bf5852c41a69"
  },
  {
   "metadata": {
    "ExecuteTime": {
     "end_time": "2024-08-15T21:46:10.515968Z",
     "start_time": "2024-08-15T21:46:09.975260Z"
    }
   },
   "cell_type": "code",
   "source": [
    "acoustic_pressure = 2000000\n",
    "frequency = 1.2e6\n",
    "initial_radius = 0.000004\n",
    "\n",
    "periods = 10\n",
    "times = np.arange(0, periods / frequency, 0.00001 / frequency)\n",
    "\n",
    "general_model = Model(acoustic_pressure, frequency, initial_radius, initial_velocity, atmospheric_pressure,\n",
    "                      surface_tension, density, viscosity, sound_velocity, vapor_pressure, adiabatic_index)\n",
    "\n",
    "result_rayleigh_plesset = odeint(general_model.rayleigh_plesset_equation, [1, 0], times * frequency, tfirst=True)\n",
    "result_keller_miksis = odeint(general_model.keller_miksis_equation, [1, 0], times * frequency, tfirst=True)\n",
    "result_gilmore = odeint(general_model.gilmore_equation, [1, 0], times * 2 * np.pi * frequency, tfirst=True)"
   ],
   "id": "555aab9caa325773",
   "execution_count": 7,
   "outputs": []
  },
  {
   "metadata": {
    "ExecuteTime": {
     "end_time": "2024-08-15T21:46:10.550322Z",
     "start_time": "2024-08-15T21:46:10.516957Z"
    }
   },
   "cell_type": "code",
   "source": [
    "data = dict()\n",
    "data['x_axis_data'] = [times * frequency, times * frequency, times * frequency]\n",
    "data['y_axis_data'] = [result_rayleigh_plesset[:, 0], result_keller_miksis[:, 0], result_gilmore[:, 0]]\n",
    "data['labels'] = ['Rayleigh-Plesset', 'Keller-Miksis', 'Gilmore']\n",
    "data['x_lim'] = []\n",
    "data['y_lim'] = []\n",
    "data['savefig'] = True\n",
    "data['name_fig'] = 'transient_cavitation.pdf'\n",
    "data['legend_title'] = 'Differential equation'\n",
    "data['x_label'] = \"Time (periods)\"\n",
    "data['y_label'] = \"Radius (non dimensional)\""
   ],
   "id": "76de64d3dc86671c",
   "execution_count": 8,
   "outputs": []
  },
  {
   "metadata": {
    "ExecuteTime": {
     "end_time": "2024-08-15T21:46:12.038713Z",
     "start_time": "2024-08-15T21:46:10.551315Z"
    }
   },
   "cell_type": "code",
   "source": "time_series_figure(data=data)",
   "id": "d198dbe5bbc05a71",
   "execution_count": 9,
   "outputs": []
  }
 ],
 "metadata": {
  "kernelspec": {
   "display_name": "Python 3",
   "language": "python",
   "name": "python3"
  },
  "language_info": {
   "codemirror_mode": {
    "name": "ipython",
    "version": 2
   },
   "file_extension": ".py",
   "mimetype": "text/x-python",
   "name": "python",
   "nbconvert_exporter": "python",
   "pygments_lexer": "ipython2",
   "version": "2.7.6"
  }
 },
 "nbformat": 4,
 "nbformat_minor": 5
}
