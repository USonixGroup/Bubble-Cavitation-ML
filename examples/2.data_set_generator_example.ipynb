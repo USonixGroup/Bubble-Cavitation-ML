{
 "cells": [
  {
   "cell_type": "markdown",
   "id": "c7fa963ce7260f1b",
   "metadata": {},
   "source": [
    "# Libraries"
   ]
  },
  {
   "cell_type": "code",
   "execution_count": 1,
   "id": "initial_id",
   "metadata": {
    "ExecuteTime": {
     "end_time": "2024-09-06T01:01:48.387118Z",
     "start_time": "2024-09-06T01:01:45.431061Z"
    }
   },
   "outputs": [],
   "source": [
    "from machine_learning.data_set_creator import DataCreator\n",
    "from classifiers.experiment_maker import ExperimentMaker\n",
    "from main import Model"
   ]
  },
  {
   "cell_type": "markdown",
   "id": "5ea4c75b9ede725d",
   "metadata": {},
   "source": [
    "# Global variables"
   ]
  },
  {
   "cell_type": "code",
   "execution_count": 2,
   "id": "c77e8e2859ef9633",
   "metadata": {
    "ExecuteTime": {
     "end_time": "2024-09-06T01:01:48.398268Z",
     "start_time": "2024-09-06T01:01:48.387118Z"
    }
   },
   "outputs": [],
   "source": [
    "initial_velocity = 0\n",
    "atmospheric_pressure = 1e5\n",
    "vapor_pressure = 3.2718e3\n",
    "adiabatic_constant = 1.33\n",
    "\n",
    "acoustic_pressure = 1.1e5\n",
    "frequency = 2e4\n",
    "initial_radius = 11e-6\n",
    "temperature = 20\n",
    "\n",
    "number_experiments = 3"
   ]
  },
  {
   "cell_type": "markdown",
   "id": "11dc401b1c51eb35",
   "metadata": {},
   "source": [
    "# Generation of temperature dependent parameters"
   ]
  },
  {
   "cell_type": "code",
   "execution_count": 3,
   "id": "d3d8beadbccddd6d",
   "metadata": {
    "ExecuteTime": {
     "end_time": "2024-09-06T01:01:48.415996Z",
     "start_time": "2024-09-06T01:01:48.398268Z"
    }
   },
   "outputs": [],
   "source": [
    "sound_velocity = Model.sound_velocity_generator_temperature(temperature)\n",
    "surface_tension = Model.surface_tension_generator_temperature(temperature)\n",
    "density = Model.density_generator_temperature(temperature)\n",
    "viscosity = Model.viscosity_generator_temperature(temperature)"
   ]
  },
  {
   "cell_type": "markdown",
   "id": "1aa31961367d056e",
   "metadata": {},
   "source": [
    "# Initialization of model"
   ]
  },
  {
   "cell_type": "code",
   "execution_count": 4,
   "id": "b5c481700578c839",
   "metadata": {
    "ExecuteTime": {
     "end_time": "2024-09-06T01:08:59.139216Z",
     "start_time": "2024-09-06T01:01:48.415996Z"
    }
   },
   "outputs": [],
   "source": [
    "general_model = ExperimentMaker(acoustic_pressure, frequency, initial_radius, initial_velocity, atmospheric_pressure, \n",
    "                                surface_tension, density, viscosity, sound_velocity, vapor_pressure, adiabatic_constant)\n",
    "\n",
    "DataCreator.parallel_creator(general_model, number_experiments)"
   ]
  }
 ],
 "metadata": {
  "kernelspec": {
   "display_name": "Python 3 (ipykernel)",
   "language": "python",
   "name": "python3"
  },
  "language_info": {
   "codemirror_mode": {
    "name": "ipython",
    "version": 3
   },
   "file_extension": ".py",
   "mimetype": "text/x-python",
   "name": "python",
   "nbconvert_exporter": "python",
   "pygments_lexer": "ipython3",
   "version": "3.11.3"
  }
 },
 "nbformat": 4,
 "nbformat_minor": 5
}
