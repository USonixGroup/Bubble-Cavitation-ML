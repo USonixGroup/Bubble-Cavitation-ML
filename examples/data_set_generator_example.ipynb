{
 "cells": [
  {
   "metadata": {},
   "cell_type": "markdown",
   "source": "# Libraries",
   "id": "c7fa963ce7260f1b"
  },
  {
   "cell_type": "code",
   "id": "initial_id",
   "metadata": {
    "collapsed": true,
    "ExecuteTime": {
     "end_time": "2024-08-17T02:05:58.903975Z",
     "start_time": "2024-08-17T02:05:55.923699Z"
    }
   },
   "source": [
    "from multi_fidelity_machine_learning.data_set_creator import DataCreator\n",
    "from thresholds.experiment_maker import ExperimentMaker\n",
    "from main import Model"
   ],
   "execution_count": 1,
   "outputs": []
  },
  {
   "metadata": {},
   "cell_type": "markdown",
   "source": "# Global variables",
   "id": "5ea4c75b9ede725d"
  },
  {
   "metadata": {
    "ExecuteTime": {
     "end_time": "2024-08-17T02:05:58.919071Z",
     "start_time": "2024-08-17T02:05:58.903975Z"
    }
   },
   "cell_type": "code",
   "source": [
    "initial_velocity = 0\n",
    "atmospheric_pressure = 1e5\n",
    "vapor_pressure = 3.2718e3\n",
    "adiabatic_constant = 1.33\n",
    "\n",
    "acoustic_pressure = 1.1e5\n",
    "frequency = 2e4\n",
    "initial_radius = 11e-6\n",
    "temperature = 20\n",
    "\n",
    "number_experiments = 3"
   ],
   "id": "c77e8e2859ef9633",
   "execution_count": 2,
   "outputs": []
  },
  {
   "metadata": {},
   "cell_type": "markdown",
   "source": "# Generation of temperature dependent parameters",
   "id": "11dc401b1c51eb35"
  },
  {
   "metadata": {
    "ExecuteTime": {
     "end_time": "2024-08-17T02:05:58.935640Z",
     "start_time": "2024-08-17T02:05:58.919071Z"
    }
   },
   "cell_type": "code",
   "source": [
    "sound_velocity = Model.sound_velocity_generator_temperature(temperature)\n",
    "surface_tension = Model.surface_tension_generator_temperature(temperature)\n",
    "density = Model.density_generator_temperature(temperature)\n",
    "viscosity = Model.viscosity_generator_temperature(temperature)"
   ],
   "id": "d3d8beadbccddd6d",
   "execution_count": 3,
   "outputs": []
  },
  {
   "metadata": {},
   "cell_type": "markdown",
   "source": "# Initialization of model",
   "id": "1aa31961367d056e"
  },
  {
   "metadata": {
    "ExecuteTime": {
     "end_time": "2024-08-17T02:08:07.658134Z",
     "start_time": "2024-08-17T02:05:58.935640Z"
    }
   },
   "cell_type": "code",
   "source": [
    "general_model = ExperimentMaker(acoustic_pressure, frequency, initial_radius, initial_velocity, atmospheric_pressure, \n",
    "                                surface_tension, density, viscosity, sound_velocity, vapor_pressure, adiabatic_constant)\n",
    "\n",
    "DataCreator.parallel_creator(general_model, number_experiments)"
   ],
   "id": "b5c481700578c839",
   "execution_count": 4,
   "outputs": []
  },
  {
   "metadata": {},
   "cell_type": "code",
   "execution_count": null,
   "source": "",
   "id": "d0d452a0e320b614",
   "outputs": []
  }
 ],
 "metadata": {
  "kernelspec": {
   "display_name": "Python 3",
   "language": "python",
   "name": "python3"
  },
  "language_info": {
   "codemirror_mode": {
    "name": "ipython",
    "version": 2
   },
   "file_extension": ".py",
   "mimetype": "text/x-python",
   "name": "python",
   "nbconvert_exporter": "python",
   "pygments_lexer": "ipython2",
   "version": "2.7.6"
  }
 },
 "nbformat": 4,
 "nbformat_minor": 5
}
